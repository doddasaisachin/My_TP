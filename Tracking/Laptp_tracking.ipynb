{
 "cells": [
  {
   "cell_type": "code",
   "execution_count": 5,
   "metadata": {},
   "outputs": [
    {
     "name": "stdout",
     "output_type": "stream",
     "text": [
      "49.249.59.182\n",
      "{'longitude': 72.8856, 'latitude': 19.0748}\n"
     ]
    },
    {
     "data": {
      "text/plain": [
       "True"
      ]
     },
     "execution_count": 5,
     "metadata": {},
     "output_type": "execute_result"
    }
   ],
   "source": [
    "import requests\n",
    "\n",
    "\n",
    "def get_ip():\n",
    "    response = requests.get('https://api64.ipify.org?format=json').json()\n",
    "    return response[\"ip\"]\n",
    "\n",
    "\n",
    "def get_location():\n",
    "    ip_address = get_ip()\n",
    "    response = requests.get(f'https://ipapi.co/{ip_address}/json/').json()\n",
    "\n",
    "    return response\n",
    "def get_long_lat():\n",
    "    ip_address=get_ip()\n",
    "    response=requests.get(f'https://ipapi.co/{ip_address}/json/').json()\n",
    "    lon={\n",
    "        'longitude': response.get('longitude'),\n",
    "        'latitude' : response.get('latitude')\n",
    "    }\n",
    "    return lon\n",
    "\n",
    "print(get_ip())\n",
    "print(get_long_lat())\n",
    "\n",
    "loc_dict=get_long_lat()\n",
    "longitude=loc_dict['longitude']\n",
    "latitude=loc_dict['latitude']\n",
    "\n",
    "import webbrowser\n",
    "def open_gmaps():\n",
    "    return (webbrowser.open(f\"https://www.google.com/maps/place/12%C2%B052'16.5%22N+80%C2%B013'26.0%22E/@{latitude},{longitude},17z/data=!3m1!4b1!4m6!3m5!1s0x0:0x5c79646cc337bb51!7e2!8m2!3d12.8712379!4d80.2238744\"))\n",
    "open_gmaps()\n"
   ]
  },
  {
   "cell_type": "code",
   "execution_count": null,
   "metadata": {},
   "outputs": [],
   "source": []
  }
 ],
 "metadata": {
  "kernelspec": {
   "display_name": "Python 3",
   "language": "python",
   "name": "python3"
  },
  "language_info": {
   "codemirror_mode": {
    "name": "ipython",
    "version": 3
   },
   "file_extension": ".py",
   "mimetype": "text/x-python",
   "name": "python",
   "nbconvert_exporter": "python",
   "pygments_lexer": "ipython3",
   "version": "3.7.1"
  }
 },
 "nbformat": 4,
 "nbformat_minor": 2
}
